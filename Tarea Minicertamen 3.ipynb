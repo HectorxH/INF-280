{
 "cells": [
  {
   "cell_type": "markdown",
   "metadata": {},
   "source": [
    "<img src=\"http://www.exalumnos.usm.cl/wp-content/uploads/2015/06/Isotipo-Negro.gif\" title=\"Title text\" width=\"20%\" height=\"20%\" />\n",
    "\n",
    "\n",
    "<hr style=\"height:2px;border:none\"/>\n",
    "<h1 align='center'> INF-280 Estadística Computacional I-2020 </h1>\n",
    "\n",
    "<H3 align='center'> Tema 3 - Variables Aleatorias Discretas  </H3>\n",
    "<hr style=\"height:2px;border:none\"/>"
   ]
  },
  {
   "cell_type": "code",
   "execution_count": 544,
   "metadata": {
    "ExecuteTime": {
     "end_time": "2020-05-14T03:33:18.859417Z",
     "start_time": "2020-05-14T03:33:18.854619Z"
    }
   },
   "outputs": [],
   "source": [
    "from random import seed, random\n",
    "from math import ceil, floor\n",
    "import pandas as pd\n",
    "import numpy as np\n",
    "from IPython.display import display, HTML, display_html\n",
    "import seaborn as sns\n",
    "import matplotlib.pyplot as plt\n",
    "import matplotlib.ticker as ticker\n",
    "\n",
    "#sns.set(style=\"whitegrid\", palette=\"muted\")\n",
    "sns.set(style=\"darkgrid\", palette=\"muted\")\n",
    "sns.set_context(\"notebook\")\n",
    "\n",
    "def display_side_by_side(*args):\n",
    "    html_str=''\n",
    "    for df in args:\n",
    "        html_str+=df.to_html()\n",
    "    display_html(html_str.replace('table','table style=\"display:inline\"'),raw=True)"
   ]
  },
  {
   "cell_type": "code",
   "execution_count": 545,
   "metadata": {
    "ExecuteTime": {
     "end_time": "2020-05-14T03:33:18.886938Z",
     "start_time": "2020-05-14T03:33:18.883821Z"
    }
   },
   "outputs": [],
   "source": [
    "def expected_value(values, f):\n",
    "    return np.dot(values, f)\n",
    "\n",
    "def variance(values, f):\n",
    "    return expected_value(values**2, f) - expected_value(values, f)**2"
   ]
  },
  {
   "cell_type": "code",
   "execution_count": 546,
   "metadata": {
    "ExecuteTime": {
     "end_time": "2020-05-14T03:33:18.897238Z",
     "start_time": "2020-05-14T03:33:18.894038Z"
    }
   },
   "outputs": [],
   "source": [
    "def random_array(R,n):\n",
    "    return np.array([ceil(random()*R) for _ in range(n)])\n",
    "\n",
    "def random_play(yubis, N):\n",
    "    return random_array(yubis, N), random_array(yubis, N)"
   ]
  },
  {
   "cell_type": "code",
   "execution_count": 547,
   "metadata": {
    "ExecuteTime": {
     "end_time": "2020-05-14T03:33:18.905490Z",
     "start_time": "2020-05-14T03:33:18.899843Z"
    }
   },
   "outputs": [],
   "source": [
    "def morra(player1, player2):\n",
    "    play1, bet1 = player1\n",
    "    play2, bet2 = player2\n",
    "    scores = []\n",
    "    for p1, b1, p2, b2 in zip(play1, bet1, play2, bet2):\n",
    "        yubis = p1+p2\n",
    "        if(b1 == p2 and b2 != p1): scores.append(yubis)\n",
    "        else: scores.append(0)\n",
    "    return np.array(scores)\n",
    "    "
   ]
  },
  {
   "cell_type": "code",
   "execution_count": 548,
   "metadata": {
    "ExecuteTime": {
     "end_time": "2020-05-14T03:33:18.914395Z",
     "start_time": "2020-05-14T03:33:18.907957Z"
    }
   },
   "outputs": [],
   "source": [
    "def pplot(result, N):\n",
    "    ax = sns.countplot(result, order=values)\n",
    "\n",
    "    ax2=ax.twinx()\n",
    "\n",
    "    ax2.yaxis.tick_left()\n",
    "    ax.yaxis.tick_right()\n",
    "\n",
    "    ax.yaxis.set_label_position('right')\n",
    "    ax2.yaxis.set_label_position('left')\n",
    "\n",
    "    ax2.set_ylim(0,100)\n",
    "    ax.set_ylim(0,N)\n",
    "\n",
    "    ax.set_xlabel(\"Recorrido $X$\")\n",
    "    ax.set_ylabel(\"Cantidad\")\n",
    "\n",
    "    ax.set_title(\"Distribucion de probabilidad para $X$\")\n",
    "\n",
    "    ax2.set_ylabel(\"Frecuencia %\")\n",
    "\n",
    "    ax.yaxis.set_major_locator(ticker.LinearLocator(11))\n",
    "\n",
    "    ax2.grid(None)\n",
    "\n",
    "    ax.plot()"
   ]
  },
  {
   "cell_type": "markdown",
   "metadata": {},
   "source": [
    "<img src=\"https://upload.wikimedia.org/wikipedia/commons/b/b9/Tipi_Napoletani_-_Il_Giuoco_della_Morra_%28Boys_playing_%22Morra%22%29_-_Old_postcard.jpg\" alt=\"drawing\" width=\"400\"/>"
   ]
  },
  {
   "cell_type": "markdown",
   "metadata": {},
   "source": [
    "# Morra: 2 Dedos\n",
    "---\n"
   ]
  },
  {
   "cell_type": "code",
   "execution_count": 568,
   "metadata": {
    "ExecuteTime": {
     "end_time": "2020-05-15T01:02:23.765614Z",
     "start_time": "2020-05-15T01:02:23.127639Z"
    }
   },
   "outputs": [
    {
     "data": {
      "text/html": [
       "<table style=\"display:inline\" border=\"1\" class=\"dataframe\">\n",
       "  <thead>\n",
       "    <tr style=\"text-align: right;\">\n",
       "      <th></th>\n",
       "      <th>$fr$</th>\n",
       "    </tr>\n",
       "  </thead>\n",
       "  <tbody>\n",
       "    <tr>\n",
       "      <th>0</th>\n",
       "      <td>0.75011</td>\n",
       "    </tr>\n",
       "    <tr>\n",
       "      <th>1</th>\n",
       "      <td>0.00000</td>\n",
       "    </tr>\n",
       "    <tr>\n",
       "      <th>2</th>\n",
       "      <td>0.06237</td>\n",
       "    </tr>\n",
       "    <tr>\n",
       "      <th>3</th>\n",
       "      <td>0.12469</td>\n",
       "    </tr>\n",
       "    <tr>\n",
       "      <th>4</th>\n",
       "      <td>0.06283</td>\n",
       "    </tr>\n",
       "  </tbody>\n",
       "</table style=\"display:inline\"><table style=\"display:inline\" border=\"1\" class=\"dataframe\">\n",
       "  <thead>\n",
       "    <tr style=\"text-align: right;\">\n",
       "      <th></th>\n",
       "      <th></th>\n",
       "    </tr>\n",
       "  </thead>\n",
       "  <tbody>\n",
       "    <tr>\n",
       "      <th>$E[X]$</th>\n",
       "      <td>0.750130</td>\n",
       "    </tr>\n",
       "    <tr>\n",
       "      <th>$V[X]$</th>\n",
       "      <td>1.814275</td>\n",
       "    </tr>\n",
       "  </tbody>\n",
       "</table style=\"display:inline\">"
      ]
     },
     "metadata": {},
     "output_type": "display_data"
    },
    {
     "data": {
      "image/png": "[encoded data removed]",
      "text/plain": [
       "<Figure size 432x288 with 2 Axes>"
      ]
     },
     "metadata": {},
     "output_type": "display_data"
    }
   ],
   "source": [
    "seed()\n",
    "\n",
    "yubis = 2\n",
    "N = 100000\n",
    "\n",
    "\n",
    "player1 = random_play(yubis, N)\n",
    "player2 = random_play(yubis, N)\n",
    "\n",
    "result = morra(player1, player2)\n",
    "fr = np.bincount(result, minlength=yubis*2+1)/N\n",
    "values = np.array(range(yubis*2+1))\n",
    "\n",
    "df_fr = pd.DataFrame(fr, columns=[\"$fr$\"])\n",
    "df_info = pd.DataFrame([expected_value(values, fr),variance(values, fr)], [\"$E[X]$\", \"$V[X]$\"], columns=[\"\"])\n",
    "\n",
    "display_side_by_side(df_fr, df_info)\n",
    "pplot(result, N)"
   ]
  },
  {
   "cell_type": "markdown",
   "metadata": {},
   "source": [
    "# Morra: 10 Dedos\n",
    "---"
   ]
  },
  {
   "cell_type": "code",
   "execution_count": 571,
   "metadata": {
    "ExecuteTime": {
     "end_time": "2020-05-15T01:03:04.527991Z",
     "start_time": "2020-05-15T01:03:03.112285Z"
    }
   },
   "outputs": [
    {
     "data": {
      "text/html": [
       "<table style=\"display:inline\" border=\"1\" class=\"dataframe\">\n",
       "  <thead>\n",
       "    <tr style=\"text-align: right;\">\n",
       "      <th></th>\n",
       "      <th>$fr$</th>\n",
       "    </tr>\n",
       "  </thead>\n",
       "  <tbody>\n",
       "    <tr>\n",
       "      <th>0</th>\n",
       "      <td>0.9057</td>\n",
       "    </tr>\n",
       "    <tr>\n",
       "      <th>1</th>\n",
       "      <td>0.0000</td>\n",
       "    </tr>\n",
       "    <tr>\n",
       "      <th>2</th>\n",
       "      <td>0.0007</td>\n",
       "    </tr>\n",
       "    <tr>\n",
       "      <th>3</th>\n",
       "      <td>0.0019</td>\n",
       "    </tr>\n",
       "    <tr>\n",
       "      <th>4</th>\n",
       "      <td>0.0024</td>\n",
       "    </tr>\n",
       "    <tr>\n",
       "      <th>5</th>\n",
       "      <td>0.0037</td>\n",
       "    </tr>\n",
       "    <tr>\n",
       "      <th>6</th>\n",
       "      <td>0.0059</td>\n",
       "    </tr>\n",
       "    <tr>\n",
       "      <th>7</th>\n",
       "      <td>0.0064</td>\n",
       "    </tr>\n",
       "    <tr>\n",
       "      <th>8</th>\n",
       "      <td>0.0068</td>\n",
       "    </tr>\n",
       "    <tr>\n",
       "      <th>9</th>\n",
       "      <td>0.0066</td>\n",
       "    </tr>\n",
       "    <tr>\n",
       "      <th>10</th>\n",
       "      <td>0.0084</td>\n",
       "    </tr>\n",
       "    <tr>\n",
       "      <th>11</th>\n",
       "      <td>0.0091</td>\n",
       "    </tr>\n",
       "    <tr>\n",
       "      <th>12</th>\n",
       "      <td>0.0094</td>\n",
       "    </tr>\n",
       "    <tr>\n",
       "      <th>13</th>\n",
       "      <td>0.0064</td>\n",
       "    </tr>\n",
       "    <tr>\n",
       "      <th>14</th>\n",
       "      <td>0.0062</td>\n",
       "    </tr>\n",
       "    <tr>\n",
       "      <th>15</th>\n",
       "      <td>0.0052</td>\n",
       "    </tr>\n",
       "    <tr>\n",
       "      <th>16</th>\n",
       "      <td>0.0051</td>\n",
       "    </tr>\n",
       "    <tr>\n",
       "      <th>17</th>\n",
       "      <td>0.0034</td>\n",
       "    </tr>\n",
       "    <tr>\n",
       "      <th>18</th>\n",
       "      <td>0.0033</td>\n",
       "    </tr>\n",
       "    <tr>\n",
       "      <th>19</th>\n",
       "      <td>0.0024</td>\n",
       "    </tr>\n",
       "    <tr>\n",
       "      <th>20</th>\n",
       "      <td>0.0010</td>\n",
       "    </tr>\n",
       "  </tbody>\n",
       "</table style=\"display:inline\"><table style=\"display:inline\" border=\"1\" class=\"dataframe\">\n",
       "  <thead>\n",
       "    <tr style=\"text-align: right;\">\n",
       "      <th></th>\n",
       "      <th></th>\n",
       "    </tr>\n",
       "  </thead>\n",
       "  <tbody>\n",
       "    <tr>\n",
       "      <th>$E[X]$</th>\n",
       "      <td>1.038500</td>\n",
       "    </tr>\n",
       "    <tr>\n",
       "      <th>$V[X]$</th>\n",
       "      <td>11.953418</td>\n",
       "    </tr>\n",
       "  </tbody>\n",
       "</table style=\"display:inline\">"
      ]
     },
     "metadata": {},
     "output_type": "display_data"
    },
    {
     "data": {
      "image/png": "[encoded data removed]",
      "text/plain": [
       "<Figure size 432x288 with 2 Axes>"
      ]
     },
     "metadata": {},
     "output_type": "display_data"
    }
   ],
   "source": [
    "seed()\n",
    "\n",
    "yubis = 10\n",
    "N = 10000\n",
    "\n",
    "\n",
    "player1 = random_play(yubis, N)\n",
    "player2 = random_play(yubis, N)\n",
    "\n",
    "result = morra(player1, player2)\n",
    "fr = np.bincount(result, minlength=yubis*2+1)/N\n",
    "values = np.array(range(yubis*2+1))\n",
    "\n",
    "df_fr = pd.DataFrame(fr, columns=[\"$fr$\"])\n",
    "df_info = pd.DataFrame([expected_value(values, fr),variance(values, fr)], [\"$E[X]$\", \"$V[X]$\"], columns=[\"\"])\n",
    "\n",
    "display_side_by_side(df_fr, df_info)\n",
    "pplot(result, N)"
   ]
  },
  {
   "cell_type": "markdown",
   "metadata": {},
   "source": [
    "# Extra: Mejor estrategia\n",
    "---"
   ]
  },
  {
   "cell_type": "code",
   "execution_count": 551,
   "metadata": {
    "ExecuteTime": {
     "end_time": "2020-05-14T03:33:19.675260Z",
     "start_time": "2020-05-14T03:33:19.672920Z"
    }
   },
   "outputs": [],
   "source": [
    "def eq_play(yubis, N):\n",
    "    arr = random_array(yubis, N)\n",
    "    return arr, arr"
   ]
  },
  {
   "cell_type": "code",
   "execution_count": 552,
   "metadata": {
    "ExecuteTime": {
     "end_time": "2020-05-14T03:33:19.684657Z",
     "start_time": "2020-05-14T03:33:19.676901Z"
    }
   },
   "outputs": [],
   "source": [
    "def maxeq_play(yubis, N):\n",
    "    return np.array([yubis]*N), np.array([yubis]*N)\n",
    "\n",
    "def maxy_play(yubis, N):\n",
    "    return np.array([yubis]*N), random_array(yubis, N)\n",
    "\n",
    "def maxb_play(yubis, N):\n",
    "    return random_array(yubis, N), np.array([yubis]*N)"
   ]
  },
  {
   "cell_type": "code",
   "execution_count": 553,
   "metadata": {
    "ExecuteTime": {
     "end_time": "2020-05-14T03:33:19.803302Z",
     "start_time": "2020-05-14T03:33:19.686533Z"
    }
   },
   "outputs": [],
   "source": [
    "def exeq_play(yubis, N):\n",
    "    return np.array([floor(random()*2)*(yubis-1)+1 for _ in range(N)]), np.array([floor(random()*2)*(yubis-1)+1 for _ in range(N)])\n",
    "\n",
    "def exy_play(yubis, N):\n",
    "    return np.array([floor(random()*2)*(yubis-1)+1 for _ in range(N)]), random_array(yubis, N)\n",
    "\n",
    "def exb_play(yubis, N):\n",
    "    return random_array(yubis, N), np.array([floor(random()*2)*(yubis-1)+1 for _ in range(N)])"
   ]
  },
  {
   "cell_type": "code",
   "execution_count": 563,
   "metadata": {
    "ExecuteTime": {
     "end_time": "2020-05-14T04:43:17.179328Z",
     "start_time": "2020-05-14T04:43:09.304452Z"
    },
    "scrolled": false
   },
   "outputs": [
    {
     "data": {
      "text/html": [
       "<div>\n",
       "<style scoped>\n",
       "    .dataframe tbody tr th:only-of-type {\n",
       "        vertical-align: middle;\n",
       "    }\n",
       "\n",
       "    .dataframe tbody tr th {\n",
       "        vertical-align: top;\n",
       "    }\n",
       "\n",
       "    .dataframe thead th {\n",
       "        text-align: right;\n",
       "    }\n",
       "</style>\n",
       "<table border=\"1\" class=\"dataframe\">\n",
       "  <thead>\n",
       "    <tr style=\"text-align: right;\">\n",
       "      <th></th>\n",
       "      <th>$fr$</th>\n",
       "    </tr>\n",
       "  </thead>\n",
       "  <tbody>\n",
       "    <tr>\n",
       "      <th>0</th>\n",
       "      <td>1.0</td>\n",
       "    </tr>\n",
       "    <tr>\n",
       "      <th>1</th>\n",
       "      <td>0.0</td>\n",
       "    </tr>\n",
       "    <tr>\n",
       "      <th>2</th>\n",
       "      <td>0.0</td>\n",
       "    </tr>\n",
       "    <tr>\n",
       "      <th>3</th>\n",
       "      <td>0.0</td>\n",
       "    </tr>\n",
       "    <tr>\n",
       "      <th>4</th>\n",
       "      <td>0.0</td>\n",
       "    </tr>\n",
       "    <tr>\n",
       "      <th>5</th>\n",
       "      <td>0.0</td>\n",
       "    </tr>\n",
       "    <tr>\n",
       "      <th>6</th>\n",
       "      <td>0.0</td>\n",
       "    </tr>\n",
       "    <tr>\n",
       "      <th>7</th>\n",
       "      <td>0.0</td>\n",
       "    </tr>\n",
       "    <tr>\n",
       "      <th>8</th>\n",
       "      <td>0.0</td>\n",
       "    </tr>\n",
       "    <tr>\n",
       "      <th>9</th>\n",
       "      <td>0.0</td>\n",
       "    </tr>\n",
       "    <tr>\n",
       "      <th>10</th>\n",
       "      <td>0.0</td>\n",
       "    </tr>\n",
       "    <tr>\n",
       "      <th>11</th>\n",
       "      <td>0.0</td>\n",
       "    </tr>\n",
       "    <tr>\n",
       "      <th>12</th>\n",
       "      <td>0.0</td>\n",
       "    </tr>\n",
       "    <tr>\n",
       "      <th>13</th>\n",
       "      <td>0.0</td>\n",
       "    </tr>\n",
       "    <tr>\n",
       "      <th>14</th>\n",
       "      <td>0.0</td>\n",
       "    </tr>\n",
       "    <tr>\n",
       "      <th>15</th>\n",
       "      <td>0.0</td>\n",
       "    </tr>\n",
       "    <tr>\n",
       "      <th>16</th>\n",
       "      <td>0.0</td>\n",
       "    </tr>\n",
       "    <tr>\n",
       "      <th>17</th>\n",
       "      <td>0.0</td>\n",
       "    </tr>\n",
       "    <tr>\n",
       "      <th>18</th>\n",
       "      <td>0.0</td>\n",
       "    </tr>\n",
       "    <tr>\n",
       "      <th>19</th>\n",
       "      <td>0.0</td>\n",
       "    </tr>\n",
       "    <tr>\n",
       "      <th>20</th>\n",
       "      <td>0.0</td>\n",
       "    </tr>\n",
       "  </tbody>\n",
       "</table>\n",
       "</div>"
      ],
      "text/plain": [
       "    $fr$\n",
       "0    1.0\n",
       "1    0.0\n",
       "2    0.0\n",
       "3    0.0\n",
       "4    0.0\n",
       "5    0.0\n",
       "6    0.0\n",
       "7    0.0\n",
       "8    0.0\n",
       "9    0.0\n",
       "10   0.0\n",
       "11   0.0\n",
       "12   0.0\n",
       "13   0.0\n",
       "14   0.0\n",
       "15   0.0\n",
       "16   0.0\n",
       "17   0.0\n",
       "18   0.0\n",
       "19   0.0\n",
       "20   0.0"
      ]
     },
     "metadata": {},
     "output_type": "display_data"
    },
    {
     "data": {
      "image/png": "[encoded data removed]",
      "text/plain": [
       "<Figure size 432x288 with 1 Axes>"
      ]
     },
     "metadata": {},
     "output_type": "display_data"
    }
   ],
   "source": [
    "seed()\n",
    "\n",
    "yubis = 10\n",
    "N = 100000\n",
    "\n",
    "values = np.array(range(yubis*2+1))\n",
    "\n",
    "results = np.zeros(shape=(8,8))\n",
    "\n",
    "participants = [random_play, eq_play, maxeq_play, maxy_play, maxb_play, exeq_play, exy_play, exb_play]\n",
    "labels = [\"random\", \"equal\", \"max eq\", \"max fingers\", \"max bet\", \"extreme eq\", \"extreme fingers\", \"extreme bet\"]\n",
    "\n",
    "for i, p1 in enumerate(participants):\n",
    "    for j, p2 in enumerate(participants):\n",
    "        player1 = p1(yubis, N)\n",
    "        player2 = p2(yubis, N)\n",
    "        f = np.bincount(morra(player1, player2),minlength=yubis*2+1)/N\n",
    "        \n",
    "        if((i,j) == (1,1)): display(pd.DataFrame(f, columns=[\"$fr$\"]))\n",
    "\n",
    "        #print(f1)\n",
    "        \n",
    "        results[i,j] = expected_value(values, f)\n",
    "        \n",
    "\n",
    "tournament = pd.DataFrame(results, labels, columns=labels)\n",
    "\n",
    "ax = sns.heatmap(tournament, annot=True, cmap=\"YlGnBu\", linewidths=1, cbar=False, square=True)\n",
    "\n",
    "ax.xaxis.set_label_position(\"top\")\n"
   ]
  }
 ],
 "metadata": {
  "kernelspec": {
   "display_name": "Python 3",
   "language": "python",
   "name": "python3"
  },
  "language_info": {
   "codemirror_mode": {
    "name": "ipython",
    "version": 3
   },
   "file_extension": ".py",
   "mimetype": "text/x-python",
   "name": "python",
   "nbconvert_exporter": "python",
   "pygments_lexer": "ipython3",
   "version": "3.6.9"
  },
  "toc": {
   "base_numbering": 1,
   "nav_menu": {},
   "number_sections": false,
   "sideBar": true,
   "skip_h1_title": false,
   "title_cell": "Table of Contents",
   "title_sidebar": "Contents",
   "toc_cell": false,
   "toc_position": {},
   "toc_section_display": true,
   "toc_window_display": false
  },
  "varInspector": {
   "cols": {
    "lenName": 16,
    "lenType": 16,
    "lenVar": 40
   },
   "kernels_config": {
    "python": {
     "delete_cmd_postfix": "",
     "delete_cmd_prefix": "del ",
     "library": "var_list.py",
     "varRefreshCmd": "print(var_dic_list())"
    },
    "r": {
     "delete_cmd_postfix": ") ",
     "delete_cmd_prefix": "rm(",
     "library": "var_list.r",
     "varRefreshCmd": "cat(var_dic_list()) "
    }
   },
   "types_to_exclude": [
    "module",
    "function",
    "builtin_function_or_method",
    "instance",
    "_Feature"
   ],
   "window_display": false
  }
 },
 "nbformat": 4,
 "nbformat_minor": 4
}
