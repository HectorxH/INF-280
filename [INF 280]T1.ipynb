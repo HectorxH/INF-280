{
 "cells": [
  {
   "cell_type": "markdown",
   "metadata": {},
   "source": [
    "<img src=\"http://www.exalumnos.usm.cl/wp-content/uploads/2015/06/Isotipo-Negro.gif\" title=\"Title text\" width=\"20%\" height=\"20%\" />\n",
    "\n",
    "\n",
    "<hr style=\"height:2px;border:none\"/>\n",
    "<h1 align='center'> INF-280 Estadística Computacional I-2020 </h1>\n",
    "\n",
    "<H3 align='center'> Tema 1 - Análisis Exploratorio de Datos  </H3>\n",
    "<hr style=\"height:2px;border:none\"/>"
   ]
  },
  {
   "cell_type": "code",
   "execution_count": 807,
   "metadata": {
    "ExecuteTime": {
     "end_time": "2020-04-24T03:10:13.703161Z",
     "start_time": "2020-04-24T03:10:13.699828Z"
    }
   },
   "outputs": [],
   "source": [
    "from numpy import mean, median, var, std, max, min\n",
    "import matplotlib.pyplot as plt\n",
    "import matplotlib.colors as colors\n",
    "from IPython.display import display, Math\n",
    "import seaborn as sns\n",
    "from math import sqrt, ceil, log\n",
    "import pandas as pd\n",
    "\n",
    "sns.set(style=\"whitegrid\", palette=\"muted\")"
   ]
  },
  {
   "cell_type": "markdown",
   "metadata": {},
   "source": [
    "## Descripcion de los datos\n",
    "***"
   ]
  },
  {
   "cell_type": "markdown",
   "metadata": {},
   "source": [
    "**Poblacion:** Las ventas producidas durante el año 2019.\n",
    "\n",
    "**Variable asociada:** La variable de estudio es el numero de ventas realizadas por dia."
   ]
  },
  {
   "cell_type": "markdown",
   "metadata": {},
   "source": [
    "### Muestras:"
   ]
  },
  {
   "cell_type": "markdown",
   "metadata": {},
   "source": [
    "$D_{sem}:$ Ventas producidad durante la semana.\n",
    "\n",
    "$D_{fin}:$ Ventas producidad durante el fin de semana."
   ]
  },
  {
   "cell_type": "markdown",
   "metadata": {},
   "source": [
    "## Calculo de medidas de tendencia central\n",
    "***"
   ]
  },
  {
   "cell_type": "code",
   "execution_count": 808,
   "metadata": {
    "ExecuteTime": {
     "end_time": "2020-04-24T03:10:13.716769Z",
     "start_time": "2020-04-24T03:10:13.710291Z"
    },
    "scrolled": true
   },
   "outputs": [],
   "source": [
    "with open(\"daily_sales_week.csv\") as Dsem_file:\n",
    "    Dsem = list(map(int, Dsem_file.readlines()))\n",
    "with open(\"daily_sales_weekend.csv\") as Dfin_file:\n",
    "    Dfin = list(map(int, Dfin_file.readlines()))\n",
    "\n",
    "Dsem.sort()\n",
    "Dfin.sort()\n",
    "\n",
    "Dsem = pd.DataFrame({\"Ventas\":Dsem})\n",
    "Dfin = pd.DataFrame({\"Ventas\":Dfin})"
   ]
  },
  {
   "cell_type": "code",
   "execution_count": 809,
   "metadata": {
    "ExecuteTime": {
     "end_time": "2020-04-24T03:10:13.736651Z",
     "start_time": "2020-04-24T03:10:13.718982Z"
    }
   },
   "outputs": [
    {
     "data": {
      "text/html": [
       "<div>\n",
       "<style scoped>\n",
       "    .dataframe tbody tr th:only-of-type {\n",
       "        vertical-align: middle;\n",
       "    }\n",
       "\n",
       "    .dataframe tbody tr th {\n",
       "        vertical-align: top;\n",
       "    }\n",
       "\n",
       "    .dataframe thead th {\n",
       "        text-align: right;\n",
       "    }\n",
       "</style>\n",
       "<table border=\"1\" class=\"dataframe\">\n",
       "  <thead>\n",
       "    <tr style=\"text-align: right;\">\n",
       "      <th></th>\n",
       "      <th>Media</th>\n",
       "      <th>Mediana</th>\n",
       "      <th>Sesgo</th>\n",
       "    </tr>\n",
       "  </thead>\n",
       "  <tbody>\n",
       "    <tr>\n",
       "      <th>$D_{sem}$</th>\n",
       "      <td>4.6</td>\n",
       "      <td>3.0</td>\n",
       "      <td>1.593870</td>\n",
       "    </tr>\n",
       "    <tr>\n",
       "      <th>$D_{fin}$</th>\n",
       "      <td>14.7</td>\n",
       "      <td>14.0</td>\n",
       "      <td>0.730769</td>\n",
       "    </tr>\n",
       "  </tbody>\n",
       "</table>\n",
       "</div>"
      ],
      "text/plain": [
       "           Media  Mediana     Sesgo\n",
       "$D_{sem}$    4.6      3.0  1.593870\n",
       "$D_{fin}$   14.7     14.0  0.730769"
      ]
     },
     "execution_count": 809,
     "metadata": {},
     "output_type": "execute_result"
    }
   ],
   "source": [
    "medidas_Dsem = {}\n",
    "medidas_Dfin = {}\n",
    "\n",
    "medidas_Dsem['Media'] = round(Dsem.mean()[0], 1)\n",
    "medidas_Dsem['Mediana'] = round(Dsem.median()[0],1)\n",
    "medidas_Dsem['Sesgo'] = Dsem.mean()[0] - Dsem.median()[0]\n",
    "\n",
    "medidas_Dfin['Media'] = round(Dfin.mean()[0],1)\n",
    "medidas_Dfin['Mediana'] = round(Dfin.median()[0],1)\n",
    "medidas_Dfin['Sesgo'] = Dfin.mean()[0] - Dfin.median()[0]\n",
    "\n",
    "pd.DataFrame([medidas_Dsem, medidas_Dfin], [\"$D_{sem}$\", \"$D_{fin}$\"])"
   ]
  },
  {
   "cell_type": "markdown",
   "metadata": {},
   "source": [
    "### Analisis de los resultados"
   ]
  },
  {
   "cell_type": "markdown",
   "metadata": {},
   "source": [
    "Estos resultado se ven razonables, la intuicion nos diria que la gente suele comprar mas los fines de semana, y estos datos apoyan esa hipotesis, esto se ve en que el promedio de articulos comprados en un dia es mayor los fines de semana que los dias de semana, ademas, como nos indica la mediana, en la mitad de los dias de semana del año se venden menos de 3 zapatillas, mientras que en la mitad de los fines de semana se venden 14 o mas zapatillas.\n",
    "\n",
    "Por otro lado, el sesgo nos sugiere que hay dias de semana que presentan ventas mucho mas elevadas que la media. Estemismo efecto se puede ver, pero en mucha menor medida, en los fines de semana."
   ]
  },
  {
   "cell_type": "markdown",
   "metadata": {},
   "source": [
    "## Distribucion de los datos\n",
    "***"
   ]
  },
  {
   "cell_type": "code",
   "execution_count": 810,
   "metadata": {
    "ExecuteTime": {
     "end_time": "2020-04-24T03:10:13.746732Z",
     "start_time": "2020-04-24T03:10:13.738583Z"
    }
   },
   "outputs": [
    {
     "data": {
      "text/latex": [
       "$\\displaystyle s_{sem} = 5.2$"
      ],
      "text/plain": [
       "<IPython.core.display.Math object>"
      ]
     },
     "metadata": {},
     "output_type": "display_data"
    },
    {
     "data": {
      "text/latex": [
       "$\\displaystyle s_{fin} = 5.3$"
      ],
      "text/plain": [
       "<IPython.core.display.Math object>"
      ]
     },
     "metadata": {},
     "output_type": "display_data"
    }
   ],
   "source": [
    "medidas_Dsem[\"s\"] = round(Dsem.std(ddof=1)[0],1)\n",
    "medidas_Dfin[\"s\"] = round(Dfin.std(ddof=1)[0],1)\n",
    "\n",
    "display(Math(\"s_{sem} = %.1f\"%medidas_Dsem[\"s\"]))\n",
    "display(Math(\"s_{fin} = %.1f\"%medidas_Dfin[\"s\"]))"
   ]
  },
  {
   "cell_type": "markdown",
   "metadata": {},
   "source": [
    "### Comparacion"
   ]
  },
  {
   "cell_type": "markdown",
   "metadata": {},
   "source": [
    "Las desviaciones estandar son muy similares, sin embargo, ambas muestras tienen una distribucion distinta. En particular, podemos notar que la distribucion de las cantidades veniadas los dias de semana es similar a la de en los fines de semana, pero se encuentran desplazados hacia el 0, esto es debido a que, como analizamos en la seccion anterior, durante los dias de semana la media es mucho mas pequeña que en los fines de semana y ademas de esto tiene skew positivo, lo que hace que este aun mas desplazado hacia la izquierda.\n",
    "\n",
    "Ademas, podemos calcular el rango de la muestra para asi tener un punto de comparasion de la magnitud de esta medida."
   ]
  },
  {
   "cell_type": "code",
   "execution_count": 811,
   "metadata": {
    "ExecuteTime": {
     "end_time": "2020-04-24T03:10:13.757823Z",
     "start_time": "2020-04-24T03:10:13.748928Z"
    }
   },
   "outputs": [
    {
     "data": {
      "text/html": [
       "<div>\n",
       "<style scoped>\n",
       "    .dataframe tbody tr th:only-of-type {\n",
       "        vertical-align: middle;\n",
       "    }\n",
       "\n",
       "    .dataframe tbody tr th {\n",
       "        vertical-align: top;\n",
       "    }\n",
       "\n",
       "    .dataframe thead th {\n",
       "        text-align: right;\n",
       "    }\n",
       "</style>\n",
       "<table border=\"1\" class=\"dataframe\">\n",
       "  <thead>\n",
       "    <tr style=\"text-align: right;\">\n",
       "      <th></th>\n",
       "      <th>min</th>\n",
       "      <th>max</th>\n",
       "    </tr>\n",
       "  </thead>\n",
       "  <tbody>\n",
       "    <tr>\n",
       "      <th>$D_{sem}$</th>\n",
       "      <td>0</td>\n",
       "      <td>33</td>\n",
       "    </tr>\n",
       "    <tr>\n",
       "      <th>$D_{fin}$</th>\n",
       "      <td>3</td>\n",
       "      <td>27</td>\n",
       "    </tr>\n",
       "  </tbody>\n",
       "</table>\n",
       "</div>"
      ],
      "text/plain": [
       "           min  max\n",
       "$D_{sem}$    0   33\n",
       "$D_{fin}$    3   27"
      ]
     },
     "execution_count": 811,
     "metadata": {},
     "output_type": "execute_result"
    }
   ],
   "source": [
    "range_sem = {\"min\": Dsem.min()[0], \"max\":Dsem.max()[0]}\n",
    "range_fin = {\"min\": Dfin.min()[0], \"max\":Dfin.max()[0]}\n",
    "\n",
    "pd.DataFrame([range_sem, range_fin], [\"$D_{sem}$\",\"$D_{fin}$\"])"
   ]
  },
  {
   "cell_type": "markdown",
   "metadata": {},
   "source": [
    "Estos valores ayudan a poner en perspectiva el valor de la desviacion estandar para estas muestras. En ambos casos, la desviacion estandar no es excepcionalmente grande o pequeña para el rango de valores de sus repsectivas muestras, sin embargo, en los dias de semana se ve nuevamente que hay dias que tienen una cantidad de ventas mucho mas alta a la normal."
   ]
  },
  {
   "cell_type": "markdown",
   "metadata": {},
   "source": [
    "## Analisis de boxplot\n",
    "***"
   ]
  },
  {
   "cell_type": "code",
   "execution_count": 812,
   "metadata": {
    "ExecuteTime": {
     "end_time": "2020-04-24T03:10:13.902782Z",
     "start_time": "2020-04-24T03:10:13.759852Z"
    }
   },
   "outputs": [
    {
     "data": {
      "image/png": "[encoded data removed]",
      "text/plain": [
       "<Figure size 432x288 with 1 Axes>"
      ]
     },
     "metadata": {},
     "output_type": "display_data"
    }
   ],
   "source": [
    "sns.boxplot(data=Dsem)\n",
    "\n",
    "plt.suptitle(\"Ventas de zapatillas en dias de semana (2019)\")\n",
    "plt.ylabel(\"Cantidad de zapatillas vendidas\")\n",
    "plt.ylim(0, None)\n",
    "\n",
    "plt.show()"
   ]
  },
  {
   "cell_type": "markdown",
   "metadata": {},
   "source": [
    "Podemos inmediatamente apreciar una gran cantidad de outliers. Ademas una buena parte de la muestra, sobre el 75% se encuentra por debajo de las 10 ventas al dia."
   ]
  },
  {
   "cell_type": "markdown",
   "metadata": {},
   "source": [
    "***"
   ]
  },
  {
   "cell_type": "code",
   "execution_count": 813,
   "metadata": {
    "ExecuteTime": {
     "end_time": "2020-04-24T03:10:14.015454Z",
     "start_time": "2020-04-24T03:10:13.904312Z"
    }
   },
   "outputs": [
    {
     "data": {
      "image/png": "[encoded data removed]",
      "text/plain": [
       "<Figure size 432x288 with 1 Axes>"
      ]
     },
     "metadata": {},
     "output_type": "display_data"
    }
   ],
   "source": [
    "sns.boxplot(data=Dfin, color=sns.color_palette()[1])\n",
    "\n",
    "plt.suptitle(\"Ventas de zapatillas en fines de semana (2019)\")\n",
    "plt.ylabel(\"Cantidad de zapatillas vendidas\")\n",
    "plt.ylim(0, None)\n",
    "\n",
    "plt.show()"
   ]
  },
  {
   "cell_type": "markdown",
   "metadata": {},
   "source": [
    "En el caso de los fines de semana, podemos ver una distribucion mucho mas uniforme a lo largo del rango de datos presentes en la muestra. "
   ]
  },
  {
   "cell_type": "markdown",
   "metadata": {},
   "source": [
    "***"
   ]
  },
  {
   "cell_type": "code",
   "execution_count": 814,
   "metadata": {
    "ExecuteTime": {
     "end_time": "2020-04-24T03:10:14.214924Z",
     "start_time": "2020-04-24T03:10:14.018348Z"
    }
   },
   "outputs": [
    {
     "data": {
      "image/png": "[encoded data removed]",
      "text/plain": [
       "<Figure size 432x288 with 1 Axes>"
      ]
     },
     "metadata": {},
     "output_type": "display_data"
    }
   ],
   "source": [
    "def comp_plot():\n",
    "    comp = pd.DataFrame({\"Lun-Vie\":Dsem[\"Ventas\"], \"Sab-Dom\":Dfin[\"Ventas\"]})\n",
    "\n",
    "    bp = sns.boxplot(data=comp)\n",
    "\n",
    "    plt.suptitle(\"Comparacion ventas zapatillas durante 2019\")\n",
    "    plt.xlabel(\"Tipo de dia\")\n",
    "    plt.ylabel(\"Cantidad de zapatillas vendidas\")\n",
    "    plt.ylim(0, 35)\n",
    "    \n",
    "comp_plot()\n",
    "fig.show()"
   ]
  },
  {
   "cell_type": "markdown",
   "metadata": {},
   "source": [
    "Al tener los graficos lado a lado podemos comenzar a realizar comparaciones. Algunas observaciones validas respecto a estas muestras serian por ejemplo:\n",
    "* La caja de los datos registrados en $D_{fin}$ estaban completamente sobre los registrados en $D_{sem}.$\n",
    "* El 75% mas bajo de los datos en $D_{sem}$ se encuentra por debajo del 75% mas alto de $D_{fin}.$\n",
    "* El dato mas alto registrado en $D_{sem}$ es mas alto que todos los datos registrados en $D_{fin}.$\n",
    "* El dato mas bajo registrado en $D_{fin}$ es mas alto que el 50% de los datos en $D_{sem}.$\n",
    "* El 50% mas alto de los datos en $D_{fin}$ esta sobre el bigote superior de $D_{sem}.$\n",
    "\n",
    "Por lo mismo, podemos concluir que los fines de semana venden por lo general mas zapatilla que los dias de semana, a excepecion de unos pocos dias, esto pueden ser producto de festividades u ofertas durante la semana."
   ]
  },
  {
   "cell_type": "code",
   "execution_count": 815,
   "metadata": {
    "ExecuteTime": {
     "end_time": "2020-04-24T03:10:14.411172Z",
     "start_time": "2020-04-24T03:10:14.216249Z"
    }
   },
   "outputs": [
    {
     "data": {
      "image/png": "[encoded data removed]",
      "text/plain": [
       "<Figure size 432x288 with 1 Axes>"
      ]
     },
     "metadata": {},
     "output_type": "display_data"
    }
   ],
   "source": [
    "comp_plot()\n",
    "plt.axhline(y=15, color='g', alpha=0.5)\n",
    "plt.fill_between((-0.5,1,1.5), 15, 35, color='g', alpha=0.2, label=\"Exitosos\")\n",
    "plt.legend()\n",
    "plt.show()"
   ]
  },
  {
   "cell_type": "markdown",
   "metadata": {},
   "source": [
    "En este grafico podemos estimar con mayor facilidad los procentajes de los datos que se consideran dias \"exitosos\". Mas del 75% de los dias de semana no son dias exitosos y todos los que se pueden considerar exitos son outliers. Por otro lado casi la mitad de los fines de semana son exitosos."
   ]
  },
  {
   "cell_type": "markdown",
   "metadata": {},
   "source": [
    "## Analisis Economico de la situacion\n",
    "***"
   ]
  },
  {
   "cell_type": "markdown",
   "metadata": {},
   "source": [
    "Considerando los exitos que tienen los fines de semana una buena idea seria el incrementar el personal durante estos dias para poder satisfacer a todos los clientes. Ademas si consideramos el tamaño de la caja y a la distancia a la que se encuentran del punto que separa los dias exitos, se requiere un menor aumento para hacer que el proximo 25% de los datos sea exitoso. Una consideracion adicional que cabe destacar es que ademas los fines de semana son menos dias, por un lado esto hace que requieran menor inversion, pero por el otro tambien implican que los efectos tardaran mas en acumularse."
   ]
  },
  {
   "cell_type": "markdown",
   "metadata": {},
   "source": [
    "## Analisis sobre el total de datos\n",
    "***"
   ]
  },
  {
   "cell_type": "markdown",
   "metadata": {},
   "source": [
    "Debido a que las muestras son registros de dias distintos, es decir, son disjuntas, podemos juntar los datos directamente para hacer una nueva muestra. Ademas podemos verficar que la nueva muestra contiene todos los datos de la temporada, par esto calculamos la cardinalidad del nuevo DataFrame."
   ]
  },
  {
   "cell_type": "code",
   "execution_count": 816,
   "metadata": {
    "ExecuteTime": {
     "end_time": "2020-04-24T03:10:14.419177Z",
     "start_time": "2020-04-24T03:10:14.414185Z"
    }
   },
   "outputs": [
    {
     "data": {
      "text/latex": [
       "$\\displaystyle |D_{temp}| = 365$"
      ],
      "text/plain": [
       "<IPython.core.display.Math object>"
      ]
     },
     "metadata": {},
     "output_type": "display_data"
    }
   ],
   "source": [
    "Dtemp = pd.concat([Dsem,Dfin])\n",
    "display(Math(\"$|D_{temp}| = %d$\"%len(Dtemp)))"
   ]
  },
  {
   "cell_type": "markdown",
   "metadata": {},
   "source": [
    "Lo cual es la cantidad de dias que hubieron en 2019."
   ]
  },
  {
   "cell_type": "markdown",
   "metadata": {},
   "source": [
    "Complemente su análisis con un histograma de la muestra 𝐷𝑡𝑒𝑚𝑝, escoja un valor de 𝐾 apropiado. ¿Las medidas de tendencia y dispersión calculadas anteriormente se mantienen sobre 𝐷𝑡𝑒𝑚𝑝? ¿Los nuevos valores se corresponden con un promedio entre las medidas individuales calculadas sobre cada muestra? ¿Cómo se puede obtener la media muestral de 𝐷𝑡𝑒𝑚𝑝 a través de la media muestral de 𝐷𝑠𝑒𝑚 y 𝐷𝑓𝑖𝑛? "
   ]
  },
  {
   "cell_type": "code",
   "execution_count": 817,
   "metadata": {
    "ExecuteTime": {
     "end_time": "2020-04-24T03:10:14.446205Z",
     "start_time": "2020-04-24T03:10:14.421342Z"
    }
   },
   "outputs": [
    {
     "data": {
      "text/html": [
       "<div>\n",
       "<style scoped>\n",
       "    .dataframe tbody tr th:only-of-type {\n",
       "        vertical-align: middle;\n",
       "    }\n",
       "\n",
       "    .dataframe tbody tr th {\n",
       "        vertical-align: top;\n",
       "    }\n",
       "\n",
       "    .dataframe thead th {\n",
       "        text-align: right;\n",
       "    }\n",
       "</style>\n",
       "<table border=\"1\" class=\"dataframe\">\n",
       "  <thead>\n",
       "    <tr style=\"text-align: right;\">\n",
       "      <th></th>\n",
       "      <th>Media</th>\n",
       "      <th>Mediana</th>\n",
       "      <th>Sesgo</th>\n",
       "      <th>s</th>\n",
       "    </tr>\n",
       "  </thead>\n",
       "  <tbody>\n",
       "    <tr>\n",
       "      <th>$D_{temp}$</th>\n",
       "      <td>7.5</td>\n",
       "      <td>5.0</td>\n",
       "      <td>2.482192</td>\n",
       "      <td>6.9</td>\n",
       "    </tr>\n",
       "    <tr>\n",
       "      <th>$D_{mean}$</th>\n",
       "      <td>9.7</td>\n",
       "      <td>8.5</td>\n",
       "      <td>1.162319</td>\n",
       "      <td>5.2</td>\n",
       "    </tr>\n",
       "    <tr>\n",
       "      <th>$D_{sem}$</th>\n",
       "      <td>4.6</td>\n",
       "      <td>3.0</td>\n",
       "      <td>1.593870</td>\n",
       "      <td>5.2</td>\n",
       "    </tr>\n",
       "    <tr>\n",
       "      <th>$D_{fin}$</th>\n",
       "      <td>14.7</td>\n",
       "      <td>14.0</td>\n",
       "      <td>0.730769</td>\n",
       "      <td>5.3</td>\n",
       "    </tr>\n",
       "  </tbody>\n",
       "</table>\n",
       "</div>"
      ],
      "text/plain": [
       "            Media  Mediana     Sesgo    s\n",
       "$D_{temp}$    7.5      5.0  2.482192  6.9\n",
       "$D_{mean}$    9.7      8.5  1.162319  5.2\n",
       "$D_{sem}$     4.6      3.0  1.593870  5.2\n",
       "$D_{fin}$    14.7     14.0  0.730769  5.3"
      ]
     },
     "execution_count": 817,
     "metadata": {},
     "output_type": "execute_result"
    }
   ],
   "source": [
    "medidas_Dtemp = {}\n",
    "medidas_mean = {}\n",
    "\n",
    "medidas_Dtemp[\"Media\"] = round(Dtemp.mean()[0],1)\n",
    "medidas_Dtemp[\"Mediana\"] = round(Dtemp.median()[0],1)\n",
    "medidas_Dtemp[\"Sesgo\"] = Dtemp.mean()[0] - Dtemp.median()[0]\n",
    "medidas_Dtemp[\"s\"] = round(Dtemp.std()[0], 1)\n",
    "\n",
    "medidas_mean[\"Media\"] = round(mean([Dsem.mean()[0],Dfin.mean()[0]]), 1)\n",
    "medidas_mean[\"Mediana\"] = round(mean([Dsem.median()[0],Dfin.median()[0]]), 1)\n",
    "medidas_mean[\"Sesgo\"] = mean([Dsem.mean()[0]-Dsem.median()[0],Dfin.mean()[0]-Dfin.median()[0]])\n",
    "medidas_mean[\"s\"] = round(mean([Dsem.std(ddof=1)[0],Dfin.std(ddof=1)[0]]), 1)\n",
    "\n",
    "pd.DataFrame([medidas_Dtemp, medidas_mean, medidas_Dsem, medidas_Dfin],[\"$D_{temp}$\", \"$D_{mean}$\",\"$D_{sem}$\",\"$D_{fin}$\"])"
   ]
  },
  {
   "cell_type": "markdown",
   "metadata": {},
   "source": [
    "Como era de esperarse podemos ver que tanto los valores valores a lo largo de la temporada no tiene una relacion tan directa con los valores medidos durante la semana y durante los fines de semana. Las medidas de tendencia pueden llegar a ser mas descriptivas de la poblacion, sin embargo, este procedimiento de muestreo no genera muestras representativas. El promedio de las medidas tampoco describen de forma apropiada a la poblacion."
   ]
  },
  {
   "cell_type": "code",
   "execution_count": 818,
   "metadata": {
    "ExecuteTime": {
     "end_time": "2020-04-24T03:10:14.832546Z",
     "start_time": "2020-04-24T03:10:14.448950Z"
    }
   },
   "outputs": [
    {
     "data": {
      "image/png": "[encoded data removed]",
      "text/plain": [
       "<Figure size 432x288 with 1 Axes>"
      ]
     },
     "metadata": {},
     "output_type": "display_data"
    }
   ],
   "source": [
    "K = ceil(sqrt(len(Dtemp)))\n",
    "\n",
    "sns.distplot(Dtemp, bins=K, kde=False)\n",
    "\n",
    "plt.suptitle(\"Zapatillas vendidas durante 2019\")\n",
    "plt.xlabel(\"Cantidad de zapatillas vendidas\")\n",
    "plt.xlim(0, None)\n",
    "plt.ylabel(\"Frecuencia\")\n",
    "\n",
    "plt.axvline(x=medidas_Dtemp[\"Media\"], label=\"Media\", color='r')\n",
    "plt.axvline(x=medidas_Dtemp[\"Mediana\"], label=\"Mediana\", color='b')\n",
    "plt.legend()\n",
    "\n",
    "plt.show()"
   ]
  },
  {
   "cell_type": "markdown",
   "metadata": {},
   "source": [
    "***"
   ]
  },
  {
   "cell_type": "markdown",
   "metadata": {},
   "source": [
    "Pese a que las muestras no representaban correctament la poblacion, es posible determinar la media a partir de las medias de ambas muestras complementarias utilizando la siguiente propiedad:\n",
    "$$\\overline{D_{temp}} =\\frac{\\overline D_{sem}|D_{sem}| + \\overline D_{fin}|D_{fin}|}{|D_{sem}|+|D_{fin}|}$$"
   ]
  },
  {
   "cell_type": "code",
   "execution_count": 819,
   "metadata": {
    "ExecuteTime": {
     "end_time": "2020-04-24T03:10:14.842738Z",
     "start_time": "2020-04-24T03:10:14.834180Z"
    }
   },
   "outputs": [
    {
     "data": {
      "text/html": [
       "<div>\n",
       "<style scoped>\n",
       "    .dataframe tbody tr th:only-of-type {\n",
       "        vertical-align: middle;\n",
       "    }\n",
       "\n",
       "    .dataframe tbody tr th {\n",
       "        vertical-align: top;\n",
       "    }\n",
       "\n",
       "    .dataframe thead th {\n",
       "        text-align: right;\n",
       "    }\n",
       "</style>\n",
       "<table border=\"1\" class=\"dataframe\">\n",
       "  <thead>\n",
       "    <tr style=\"text-align: right;\">\n",
       "      <th></th>\n",
       "      <th>Media</th>\n",
       "    </tr>\n",
       "  </thead>\n",
       "  <tbody>\n",
       "    <tr>\n",
       "      <th>$D_{sem},\\ D{fin}$</th>\n",
       "      <td>7.5</td>\n",
       "    </tr>\n",
       "    <tr>\n",
       "      <th>$D_{temp}$</th>\n",
       "      <td>7.5</td>\n",
       "    </tr>\n",
       "  </tbody>\n",
       "</table>\n",
       "</div>"
      ],
      "text/plain": [
       "                    Media\n",
       "$D_{sem},\\ D{fin}$    7.5\n",
       "$D_{temp}$            7.5"
      ]
     },
     "execution_count": 819,
     "metadata": {},
     "output_type": "execute_result"
    }
   ],
   "source": [
    "media = round((medidas_Dsem[\"Media\"]*len(Dsem)+medidas_Dfin[\"Media\"]*len(Dfin))/(len(Dsem)+len(Dfin)), 1)\n",
    "pd.DataFrame({\"Media\": [media, medidas_Dtemp[\"Media\"]]}, [\"$D_{sem},\\ D{fin}$\", \"$D_{temp}$\"])"
   ]
  }
 ],
 "metadata": {
  "celltoolbar": "Raw Cell Format",
  "kernelspec": {
   "display_name": "Python 3",
   "language": "python",
   "name": "python3"
  },
  "language_info": {
   "codemirror_mode": {
    "name": "ipython",
    "version": 3
   },
   "file_extension": ".py",
   "mimetype": "text/x-python",
   "name": "python",
   "nbconvert_exporter": "python",
   "pygments_lexer": "ipython3",
   "version": "3.6.9"
  },
  "toc": {
   "base_numbering": 1,
   "nav_menu": {},
   "number_sections": false,
   "sideBar": true,
   "skip_h1_title": true,
   "title_cell": "Table of Contents",
   "title_sidebar": "Contents",
   "toc_cell": false,
   "toc_position": {
    "height": "calc(100% - 180px)",
    "left": "10px",
    "top": "150px",
    "width": "293px"
   },
   "toc_section_display": true,
   "toc_window_display": true
  },
  "varInspector": {
   "cols": {
    "lenName": 16,
    "lenType": 16,
    "lenVar": 40
   },
   "kernels_config": {
    "python": {
     "delete_cmd_postfix": "",
     "delete_cmd_prefix": "del ",
     "library": "var_list.py",
     "varRefreshCmd": "print(var_dic_list())"
    },
    "r": {
     "delete_cmd_postfix": ") ",
     "delete_cmd_prefix": "rm(",
     "library": "var_list.r",
     "varRefreshCmd": "cat(var_dic_list()) "
    }
   },
   "types_to_exclude": [
    "module",
    "function",
    "builtin_function_or_method",
    "instance",
    "_Feature"
   ],
   "window_display": false
  }
 },
 "nbformat": 4,
 "nbformat_minor": 4
}
